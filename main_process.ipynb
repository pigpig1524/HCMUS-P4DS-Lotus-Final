{
 "cells": [
  {
   "cell_type": "markdown",
   "metadata": {},
   "source": [
    "# Final Project \n",
    "\n",
    "**General criteria:** \n",
    "\n",
    "- Ensure whatever you commit in this notebook be your own works (It means you **understand them clearly**)\n",
    "- Before commit: `Restart Kernel & Run all cells`\n"
   ]
  },
  {
   "cell_type": "markdown",
   "metadata": {},
   "source": [
    "## 1. Collect data"
   ]
  },
  {
   "cell_type": "markdown",
   "metadata": {},
   "source": [
    "### 1.1 Overview\n",
    "\n",
    "What subject is your data about? What is\n",
    "the source of your data?\n",
    "\n",
    "Source link: [here](https://www.kaggle.com/datasets/waqi786/remote-work-and-mental-health?fbclid=IwY2xjawFrSKZleHRuA2FlbQIxMAABHeONLRrPuU1AbC_pHea8QyWNYYMqW-t0Tw_xZtxvDGbldU1ypWS0-AzKKg_aem_jAr-PidmQqlOTGowulNZBA)\n",
    "\n",
    "`<Your works here>`"
   ]
  },
  {
   "cell_type": "markdown",
   "metadata": {},
   "source": [
    "### 1.2 License\n",
    "Do authors of this data allow you to use\n",
    "like this? You can check the data license\n",
    "\n",
    "`<Describe the license here>`"
   ]
  },
  {
   "cell_type": "markdown",
   "metadata": {},
   "source": [
    "### 1.3 How the data are collected\n",
    "\n",
    "#### Sources\n",
    "\n",
    "The dataset draws from a variety of sources to ensure a comprehensive understanding of the relationship between remote work and mental health. It incorporates responses from surveys distributed across social media platforms, professional networks, and online forums. These diverse channels helped capture a wide range of experiences and perspectives, enriching the dataset with valuable insights.\n",
    "\n",
    "#### Collection Methodology\n",
    "\n",
    "Data collection involved designing a structured questionnaire that included both quantitative and qualitative questions. The survey was distributed digitally, allowing respondents to share their experiences regarding remote work's impact on their mental well-being. Responses were anonymized to maintain privacy, ensuring participants felt comfortable providing honest feedback. This methodology enables a thorough analysis of the mental health challenges and benefits associated with remote work environments."
   ]
  },
  {
   "cell_type": "markdown",
   "metadata": {},
   "source": [
    "## 2. Data exploration"
   ]
  },
  {
   "cell_type": "markdown",
   "metadata": {},
   "source": [
    "## 3. Ask questions and answer them"
   ]
  },
  {
   "cell_type": "markdown",
   "metadata": {},
   "source": [
    "### 3.1 Question 1\n",
    "@haichaukhuu\n",
    "- Question: `<your question here>`\n",
    "- What are benefits of finding the answer?"
   ]
  },
  {
   "cell_type": "markdown",
   "metadata": {},
   "source": [
    "### 3.2 Question 2\n",
    "@pigpig1524\n",
    "- Question: `<your question here>`\n",
    "- What are benefits of finding the answer?"
   ]
  },
  {
   "cell_type": "markdown",
   "metadata": {},
   "source": [
    "### 3.3 Question 3\n",
    "@monster1909\n",
    "- Question: thời gian làm việc và hình thức làm việc ảnh hưởng như thế nào đến hiệu quả làm việc của nhân viên ?  \n",
    "- What are benefits of finding the answer?\n",
    "Có căn cứ để có thể điều chỉnh thời gian và hình thức làm việc của nhân viên 1 cách hợp lý để năng năng xuất công việc."
   ]
  },
  {
   "cell_type": "markdown",
   "metadata": {},
   "source": []
  }
 ],
 "metadata": {
  "kernelspec": {
   "display_name": "Python 3",
   "language": "python",
   "name": "python3"
  },
  "language_info": {
   "codemirror_mode": {
    "name": "ipython",
    "version": 3
   },
   "file_extension": ".py",
   "mimetype": "text/x-python",
   "name": "python",
   "nbconvert_exporter": "python",
   "pygments_lexer": "ipython3",
   "version": "3.12.5"
  }
 },
 "nbformat": 4,
 "nbformat_minor": 2
}
