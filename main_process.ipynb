{
 "cells": [
  {
   "cell_type": "markdown",
   "metadata": {},
   "source": [
    "# Final Project \n",
    "\n",
    "**General criteria:** \n",
    "\n",
    "- Ensure whatever you commit in this notebook be your own works (It means you **understand them clearly**)\n",
    "- Before commit: `Restart Kernel & Run all cells`\n"
   ]
  },
  {
   "cell_type": "markdown",
   "metadata": {},
   "source": [
    "## 1. Collect data"
   ]
  },
  {
   "cell_type": "markdown",
   "metadata": {},
   "source": [
    "### 1.1 Overview\n",
    "\n",
    "What subject is your data about? What is\n",
    "the source of your data?\n",
    "\n",
    "Source link: [here](https://www.kaggle.com/datasets/waqi786/remote-work-and-mental-health?fbclid=IwY2xjawFrSKZleHRuA2FlbQIxMAABHeONLRrPuU1AbC_pHea8QyWNYYMqW-t0Tw_xZtxvDGbldU1ypWS0-AzKKg_aem_jAr-PidmQqlOTGowulNZBA)\n",
    "\n",
    "`<Your works here>`"
   ]
  },
  {
   "cell_type": "markdown",
   "metadata": {},
   "source": [
    "### 1.2 License\n",
    "This dataset has `Apache 2.0` license. As a result, we can do anything with this dataset"
   ]
  },
  {
   "cell_type": "markdown",
   "metadata": {},
   "source": [
    "### 1.3 How the data are collected\n",
    "\n",
    "`<Your works here>`"
   ]
  },
  {
   "cell_type": "markdown",
   "metadata": {},
   "source": [
    "## 2. Data exploration"
   ]
  },
  {
   "cell_type": "markdown",
   "metadata": {},
   "source": [
    "## 3. Ask questions and answer them"
   ]
  },
  {
   "cell_type": "markdown",
   "metadata": {},
   "source": [
    "### 3.1 Question 1\n",
    "@haichaukhuu\n",
    "- Question: `<your question here>`\n",
    "- What are benefits of finding the answer?"
   ]
  },
  {
   "cell_type": "markdown",
   "metadata": {},
   "source": [
    "### 3.2 Question 2\n",
    "@pigpig1524\n",
    "- **Question**: How do the number of virtual meetings and the social isolating rate affect the remotely working employees' stress levels?\n",
    "- **The benefits of finding the answer**: It helps us or the company staff balance the number of virtual meetings. Remote workers have to spend lots of time in front of the screen and have little time to hang out or do outdoor activities, which can make them stressed and tired"
   ]
  },
  {
   "cell_type": "markdown",
   "metadata": {},
   "source": [
    "### 3.3 Question 3\n",
    "@monster1909\n",
    "- Question: `<your question here>`\n",
    "- What are benefits of finding the answer?"
   ]
  }
 ],
 "metadata": {
  "kernelspec": {
   "display_name": "Python 3",
   "language": "python",
   "name": "python3"
  },
  "language_info": {
   "name": "python",
   "version": "3.10.7"
  }
 },
 "nbformat": 4,
 "nbformat_minor": 2
}
