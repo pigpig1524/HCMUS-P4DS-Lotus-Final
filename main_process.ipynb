{
 "cells": [
  {
   "cell_type": "markdown",
   "metadata": {},
   "source": [
    "# Final Project \n",
    "\n",
    "**General criteria:** \n",
    "\n",
    "- Ensure whatever you commit in this notebook be your own works (It means you **understand them clearly**)\n",
    "- Before commit: `Restart Kernel & Run all cells`\n"
   ]
  },
  {
   "cell_type": "markdown",
   "metadata": {},
   "source": [
    "## 1. Collect data"
   ]
  },
  {
   "cell_type": "markdown",
   "metadata": {},
   "source": [
    "### 1.1 Overview\n",
    "**Dataset Source:**\n",
    "[Remote Work & Mental Health Dataset on Kaggle](https://www.kaggle.com/datasets/waqi786/remote-work-and-mental-health?fbclid=IwY2xjawFrSKZleHRuA2FlbQIxMAABHeONLRrPuU1AbC_pHea8QyWNYYMqW-t0Tw_xZtxvDGbldU1ypWS0-AzKKg_aem_jAr-PidmQqlOTGowulNZBA)\n",
    "\n",
    "🌿 This dataset examines the impact of remote work on employees' mental well-being. It focuses on how different work arrangements may influence stress levels, work-life balance, and mental health conditions. \n",
    "\n",
    "📈 Our analysis aims to:\n",
    " - Address key questions regarding the increasing prevalence of remote work and its effects across industries and regions, \n",
    " - Offer actionable insights for researchers, HR professionals, and businesses to evaluate its impact on productivity and employee well-being.\n",
    " - Highlight the importance of prioritizing mental health in organizational policies and practices."
   ]
  },
  {
   "cell_type": "markdown",
   "metadata": {},
   "source": [
    "### 1.2 License\n",
    "This dataset has `Apache 2.0` license. As a result, we can do anything with this dataset"
   ]
  },
  {
   "cell_type": "markdown",
   "metadata": {},
   "source": [
    "### 1.3 How the data are collected\n",
    "\n",
    "`<Your works here>`"
   ]
  },
  {
   "cell_type": "markdown",
   "metadata": {},
   "source": [
    "## 2. Data exploration"
   ]
  },
  {
   "cell_type": "markdown",
   "metadata": {},
   "source": [
    "## 3. Ask questions and answer them"
   ]
  },
  {
   "cell_type": "markdown",
   "metadata": {},
   "source": [
    "### 3.1 Question 1\n",
    "@haichaukhuu\n",
    "\n",
    "**Question:** \\\n",
    "Do employees with access to mental health resources report lower stress levels and higher job satisfaction compared to those without access?\n",
    "\n",
    "**What are the benefits of finding the answer?**  \n",
    "Understanding the link between access to mental health resources, stress levels, and job satisfaction demonstrates the importance of such resources in improving employee well-being. It may provide motivation for companies and organizations to invest in mental health support programs to boost productivity and employee satisfaction."
   ]
  },
  {
   "cell_type": "markdown",
   "metadata": {},
   "source": [
    "### 3.2 Question 2\n",
    "@pigpig1524\n",
    "- **Question**: Does the frequency of virtual meetings correlate with increased stress levels, and what is the optimal meeting frequency for minimizing stress while maintaining productivity?\n",
    "- **The benefits of finding the answer**: Provides actionable recommendations to balance virtual meeting schedules and employee well-being."
   ]
  },
  {
   "cell_type": "markdown",
   "metadata": {},
   "source": [
    "### 3.3 Question 3\n",
    "@monster1909\n",
    "- Question: `<your question here>`\n",
    "- What are benefits of finding the answer?"
   ]
  }
 ],
 "metadata": {
  "kernelspec": {
   "display_name": "Python 3",
   "language": "python",
   "name": "python3"
  },
  "language_info": {
   "name": "python",
   "version": "3.10.7"
  }
 },
 "nbformat": 4,
 "nbformat_minor": 2
}
