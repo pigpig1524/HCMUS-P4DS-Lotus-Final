{
 "cells": [
  {
   "cell_type": "markdown",
   "metadata": {},
   "source": [
    "# Final Project \n",
    "\n",
    "**General criteria:** \n",
    "\n",
    "Ensure whatever you commit in this notebook be your own works (It means you **understand them clearly**)"
   ]
  },
  {
   "cell_type": "markdown",
   "metadata": {},
   "source": [
    "## 1. Collect data"
   ]
  },
  {
   "cell_type": "markdown",
   "metadata": {},
   "source": [
    "### 1.1 Overview\n",
    "\n",
    "What subject is your data about? What is\n",
    "the source of your data?\n",
    "\n",
    "Source link: https://www.kaggle.com/datasets/hoangvu128/disaster-1\n",
    "\n",
    "`<Your works here>`"
   ]
  },
  {
   "cell_type": "markdown",
   "metadata": {},
   "source": [
    "### 1.2 License\n",
    "Do authors of this data allow you to use\n",
    "like this? You can check the data license\n",
    "\n",
    "`<Describe the license here>`"
   ]
  },
  {
   "cell_type": "markdown",
   "metadata": {},
   "source": [
    "### 1.3 How the data collected?\n",
    "\n",
    "`<Your works here>`"
   ]
  },
  {
   "cell_type": "markdown",
   "metadata": {},
   "source": [
    "## 2. Data exploration"
   ]
  },
  {
   "cell_type": "markdown",
   "metadata": {},
   "source": [
    "## 3. Ask questions and answer them"
   ]
  },
  {
   "cell_type": "markdown",
   "metadata": {},
   "source": [
    "### 3.1 Question 1\n",
    "\n",
    "- Question: `<your question here>`\n",
    "- What are benefits of finding the answer?"
   ]
  },
  {
   "cell_type": "markdown",
   "metadata": {},
   "source": [
    "### 3.2 Question 2\n",
    "\n",
    "- Question: `<your question here>`\n",
    "- What are benefits of finding the answer?"
   ]
  },
  {
   "cell_type": "markdown",
   "metadata": {},
   "source": [
    "### 3.3 Question 3\n",
    "\n",
    "- Question: `<your question here>`\n",
    "- What are benefits of finding the answer?"
   ]
  }
 ],
 "metadata": {
  "language_info": {
   "name": "python"
  }
 },
 "nbformat": 4,
 "nbformat_minor": 2
}
