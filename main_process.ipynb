{
 "cells": [
  {
   "cell_type": "markdown",
   "metadata": {},
   "source": [
    "# Final Project \n",
    "\n",
    "**General criteria:** \n",
    "\n",
    "- Ensure whatever you commit in this notebook be your own works (It means you **understand them clearly**)\n",
    "- Before commit: `Restart Kernel & Run all cells`\n"
   ]
  },
  {
   "cell_type": "markdown",
   "metadata": {},
   "source": [
    "## 1. Collect data"
   ]
  },
  {
   "cell_type": "markdown",
   "metadata": {},
   "source": [
    "### 1.1 Overview\n",
    "**Dataset Source:**\n",
    "[Remote Work & Mental Health Dataset on Kaggle](https://www.kaggle.com/datasets/waqi786/remote-work-and-mental-health?fbclid=IwY2xjawFrSKZleHRuA2FlbQIxMAABHeONLRrPuU1AbC_pHea8QyWNYYMqW-t0Tw_xZtxvDGbldU1ypWS0-AzKKg_aem_jAr-PidmQqlOTGowulNZBA)\n",
    "\n",
    "🌿 This dataset examines the impact of remote work on employees' mental well-being. It focuses on how different work arrangements may influence stress levels, work-life balance, and mental health conditions. \n",
    "\n",
    "📈 Our analysis aims to:\n",
    " - Address key questions regarding the increasing prevalence of remote work and its effects across industries and regions, \n",
    " - Offer actionable insights for researchers, HR professionals, and businesses to evaluate its impact on productivity and employee well-being.\n",
    " - Highlight the importance of prioritizing mental health in organizational policies and practices."
   ]
  },
  {
   "cell_type": "markdown",
   "metadata": {},
   "source": [
    "### 1.2 License\n",
    "This dataset has `Apache 2.0` license. As a result, we can do anything with this dataset"
   ]
  },
  {
   "cell_type": "markdown",
   "metadata": {},
   "source": [
    "### 1.3 How the data are collected\n",
    "\n",
    "#### Sources\n",
    "\n",
    "The dataset draws from a variety of sources to ensure a comprehensive understanding of the relationship between remote work and mental health. It incorporates responses from surveys distributed across social media platforms, professional networks, and online forums. These diverse channels helped capture a wide range of experiences and perspectives, enriching the dataset with valuable insights.\n",
    "\n",
    "#### Collection Methodology\n",
    "\n",
    "Data collection involved designing a structured questionnaire that included both quantitative and qualitative questions. The survey was distributed digitally, allowing respondents to share their experiences regarding remote work's impact on their mental well-being. Responses were anonymized to maintain privacy, ensuring participants felt comfortable providing honest feedback. This methodology enables a thorough analysis of the mental health challenges and benefits associated with remote work environments."
   ]
  },
  {
   "cell_type": "markdown",
   "metadata": {},
   "source": [
    "## 2. Data exploration"
   ]
  },
  {
   "cell_type": "markdown",
   "metadata": {},
   "source": [
    "## 3. Ask questions and answer them"
   ]
  },
  {
   "cell_type": "markdown",
   "metadata": {},
   "source": [
    "### 3.1 Question 1\n",
    "@haichaukhuu\n",
    "\n",
    "**Question:** \\\n",
    "Do employees with access to mental health resources report lower stress levels and higher job satisfaction compared to those without access?\n",
    "\n",
    "**What are the benefits of finding the answer?**  \n",
    "Understanding the link between access to mental health resources, stress levels, and job satisfaction demonstrates the importance of such resources in improving employee well-being. It may provide motivation for companies and organizations to invest in mental health support programs to boost productivity and employee satisfaction."
   ]
  },
  {
   "cell_type": "markdown",
   "metadata": {},
   "source": [
    "### 3.2 Question 2\n",
    "@pigpig1524\n",
    "- **Question**: Does the frequency of virtual meetings correlate with increased stress levels, and what is the optimal meeting frequency for minimizing stress while maintaining productivity?\n",
    "- **The benefits of finding the answer**: Provides actionable recommendations to balance virtual meeting schedules and employee well-being."
   ]
  },
  {
   "cell_type": "markdown",
   "metadata": {},
   "source": [
    "#### Data preprocessing"
   ]
  },
  {
   "cell_type": "code",
   "execution_count": 3,
   "metadata": {},
   "outputs": [
    {
     "data": {
      "text/plain": [
       "Index(['Employee_ID', 'Age', 'Gender', 'Job_Role', 'Industry',\n",
       "       'Years_of_Experience', 'Work_Location', 'Hours_Worked_Per_Week',\n",
       "       'Number_of_Virtual_Meetings', 'Work_Life_Balance_Rating',\n",
       "       'Stress_Level', 'Mental_Health_Condition',\n",
       "       'Access_to_Mental_Health_Resources', 'Productivity_Change',\n",
       "       'Social_Isolation_Rating', 'Satisfaction_with_Remote_Work',\n",
       "       'Company_Support_for_Remote_Work', 'Physical_Activity', 'Sleep_Quality',\n",
       "       'Region'],\n",
       "      dtype='object')"
      ]
     },
     "execution_count": 3,
     "metadata": {},
     "output_type": "execute_result"
    }
   ],
   "source": [
    "import pandas as pd\n",
    "df = pd.read_csv('data/Impact_of_Remote_Work_on_Mental_Health.csv')\n",
    "df.columns"
   ]
  },
  {
   "cell_type": "code",
   "execution_count": 11,
   "metadata": {},
   "outputs": [
    {
     "data": {
      "text/html": [
       "<div>\n",
       "<style scoped>\n",
       "    .dataframe tbody tr th:only-of-type {\n",
       "        vertical-align: middle;\n",
       "    }\n",
       "\n",
       "    .dataframe tbody tr th {\n",
       "        vertical-align: top;\n",
       "    }\n",
       "\n",
       "    .dataframe thead th {\n",
       "        text-align: right;\n",
       "    }\n",
       "</style>\n",
       "<table border=\"1\" class=\"dataframe\">\n",
       "  <thead>\n",
       "    <tr style=\"text-align: right;\">\n",
       "      <th></th>\n",
       "      <th>Company_Support_for_Remote_Work</th>\n",
       "      <th>Satisfaction_with_Remote_Work</th>\n",
       "    </tr>\n",
       "  </thead>\n",
       "  <tbody>\n",
       "    <tr>\n",
       "      <th>Company_Support_for_Remote_Work</th>\n",
       "      <td>1.000000</td>\n",
       "      <td>0.033752</td>\n",
       "    </tr>\n",
       "    <tr>\n",
       "      <th>Satisfaction_with_Remote_Work</th>\n",
       "      <td>0.033752</td>\n",
       "      <td>1.000000</td>\n",
       "    </tr>\n",
       "  </tbody>\n",
       "</table>\n",
       "</div>"
      ],
      "text/plain": [
       "                                 Company_Support_for_Remote_Work  \\\n",
       "Company_Support_for_Remote_Work                         1.000000   \n",
       "Satisfaction_with_Remote_Work                           0.033752   \n",
       "\n",
       "                                 Satisfaction_with_Remote_Work  \n",
       "Company_Support_for_Remote_Work                       0.033752  \n",
       "Satisfaction_with_Remote_Work                         1.000000  "
      ]
     },
     "execution_count": 11,
     "metadata": {},
     "output_type": "execute_result"
    }
   ],
   "source": [
    "# temp = temp[temp.Work_Location == 'Remote']\n",
    "# temp = df.loc[df.Work_Location == 'Remote', ['Number_of_Virtual_Meetings', 'Satisfaction_with_Remote_Work']]\n",
    "temp = df.loc[df.Work_Location == 'Remote', ['Company_Support_for_Remote_Work', 'Satisfaction_with_Remote_Work']]\n",
    "\n",
    "# # new_rating = temp['Stress_Level']\n",
    "temp.loc[temp.Satisfaction_with_Remote_Work == 'Unsatisfied', ['Satisfaction_with_Remote_Work']] = -1\n",
    "temp.loc[temp.Satisfaction_with_Remote_Work == 'Neutral', ['Satisfaction_with_Remote_Work']] = 0\n",
    "temp.loc[temp.Satisfaction_with_Remote_Work == 'Satisfied', ['Satisfaction_with_Remote_Work']] = 1\n",
    "# temp.Stress_level = temp['Stress_Level'].astype('int64')\n",
    "temp = temp.convert_dtypes()\n",
    "# temp.info()\n",
    "# temp\n",
    "\n",
    "temp.corr()"
   ]
  },
  {
   "cell_type": "code",
   "execution_count": 59,
   "metadata": {},
   "outputs": [
    {
     "data": {
      "text/plain": [
       "-0.0016872815192738116"
      ]
     },
     "execution_count": 59,
     "metadata": {},
     "output_type": "execute_result"
    }
   ],
   "source": [
    "x = temp['Number_of_Virtual_Meetings'] - temp['Number_of_Virtual_Meetings'].mean()\n",
    "x_var = temp['Number_of_Virtual_Meetings'].var()\n",
    "y = temp['Stress_Level'] - temp['Stress_Level'].mean()\n",
    "y_var = temp['Stress_Level'].var()\n",
    "\n",
    "cov = (x*y).sum() / (len(temp) - 1)\n",
    "\n",
    "cov / (x_var * y_var)**0.5\n"
   ]
  },
  {
   "cell_type": "markdown",
   "metadata": {},
   "source": [
    "### 3.3 Question 3\n",
    "@monster1909\n",
    "- Question:  Is there a difference in stress levels and sleep quality across different industries?  \n",
    "- What are benefits of finding the answer?\n",
    "how stress levels and sleep quality vary across industries, providing insights into which sectors may require targeted interventions to improve employee well-being and productivity."
   ]
  }
 ],
 "metadata": {
  "kernelspec": {
   "display_name": "Python 3",
   "language": "python",
   "name": "python3"
  },
  "language_info": {
   "codemirror_mode": {
    "name": "ipython",
    "version": 3
   },
   "file_extension": ".py",
   "mimetype": "text/x-python",
   "name": "python",
   "nbconvert_exporter": "python",
   "pygments_lexer": "ipython3",
   "version": "3.10.7"
  }
 },
 "nbformat": 4,
 "nbformat_minor": 2
}
